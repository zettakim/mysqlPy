{
 "cells": [
  {
   "cell_type": "code",
   "execution_count": 1,
   "metadata": {},
   "outputs": [],
   "source": [
    "import pymysql\n",
    "\n",
    "conn = pymysql.connect(host='172.17.0.3',\n",
    "                       user='zetta',\n",
    "                       password='password',\n",
    "                       charset='utf8')\n",
    "with conn:\n",
    "    with conn.cursor() as cur:\n",
    "        cur.execute('CREATE DATABASE teatdb')\n",
    "        conn.commit"
   ]
  },
  {
   "cell_type": "code",
   "execution_count": 2,
   "metadata": {},
   "outputs": [
    {
     "ename": "IndentationError",
     "evalue": "expected an indented block after 'with' statement on line 10 (642125538.py, line 11)",
     "output_type": "error",
     "traceback": [
      "\u001b[0;36m  Cell \u001b[0;32mIn[2], line 11\u001b[0;36m\u001b[0m\n\u001b[0;31m    cur.execute(sql)\u001b[0m\n\u001b[0m    ^\u001b[0m\n\u001b[0;31mIndentationError\u001b[0m\u001b[0;31m:\u001b[0m expected an indented block after 'with' statement on line 10\n"
     ]
    }
   ],
   "source": [
    "conn = pymysql.connect(host='localhost',\n",
    "                       user='zetta',\n",
    "                       password='password',\n",
    "                       db='testdb',\n",
    "                       charset='utf8')\n",
    "\n",
    "sql = \"SHOW DATABASES\"\n",
    "\n",
    "with conn:\n",
    "    with conn.cursor() as cur:\n",
    "        cur.execute(sql)\n",
    "        for data in cur:\n",
    "            print(data)"
   ]
  },
  {
   "cell_type": "code",
   "execution_count": null,
   "metadata": {},
   "outputs": [],
   "source": []
  }
 ],
 "metadata": {
  "kernelspec": {
   "display_name": "Python 3",
   "language": "python",
   "name": "python3"
  },
  "language_info": {
   "codemirror_mode": {
    "name": "ipython",
    "version": 3
   },
   "file_extension": ".py",
   "mimetype": "text/x-python",
   "name": "python",
   "nbconvert_exporter": "python",
   "pygments_lexer": "ipython3",
   "version": "3.10.6"
  },
  "orig_nbformat": 4
 },
 "nbformat": 4,
 "nbformat_minor": 2
}
