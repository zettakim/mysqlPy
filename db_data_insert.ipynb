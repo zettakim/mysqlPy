{
 "cells": [
  {
   "cell_type": "code",
   "execution_count": 1,
   "metadata": {},
   "outputs": [],
   "source": [
    "import pymysql\n",
    "\n",
    "db = pymysql.connect(host='172.17.0.3',\n",
    "                       user='zetta',\n",
    "                       password='password',\n",
    "                       charset='utf8')\n",
    "\n",
    "sql = \"\"\"\n",
    "    CREATE DATABASE zetta_db\n",
    "\"\"\"\n",
    "try:\n",
    "    with db.cursor() as cursor:\n",
    "        cursor.execute(sql)\n",
    "        db.commit()\n",
    "finally:\n",
    "    db.close()"
   ]
  },
  {
   "cell_type": "code",
   "execution_count": null,
   "metadata": {},
   "outputs": [],
   "source": [
    "db = pymysql.connect(host='172.17.0.3',\n",
    "                       user='zetta',\n",
    "                       password='password',\n",
    "                       db='zetta_db'\n",
    "                       charset='utf8')\n",
    "\n",
    "sql = '''\n",
    "    CREATE TABLE cpu_info (\n",
    "        id INT UNSIGNED NOT NULL AUTO_INCREMENT,\n",
    "        name VARCHAR(20) NOT NULL,\n",
    "        model_num VARCHAR(10) NOT NULL,\n",
    "        model_type VARCHAR(10) NOT NULL,\n",
    "        PRIMARY KEY(id)\n",
    "    )\n",
    "'''\n",
    "\n",
    "try:\n",
    "    with db.cursor() as cursor:\n",
    "        cursor.execute(sql)\n",
    "        db.commit()\n",
    "finally:\n",
    "    db.close()"
   ]
  }
 ],
 "metadata": {
  "kernelspec": {
   "display_name": "Python 3",
   "language": "python",
   "name": "python3"
  },
  "language_info": {
   "codemirror_mode": {
    "name": "ipython",
    "version": 3
   },
   "file_extension": ".py",
   "mimetype": "text/x-python",
   "name": "python",
   "nbconvert_exporter": "python",
   "pygments_lexer": "ipython3",
   "version": "3.10.6"
  },
  "orig_nbformat": 4
 },
 "nbformat": 4,
 "nbformat_minor": 2
}
