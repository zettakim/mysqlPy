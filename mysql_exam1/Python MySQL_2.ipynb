{
 "cells": [
  {
   "cell_type": "markdown",
   "metadata": {},
   "source": [
    "### Connect to a MySQL Database in Python"
   ]
  },
  {
   "cell_type": "code",
   "execution_count": 2,
   "metadata": {},
   "outputs": [
    {
     "name": "stdout",
     "output_type": "stream",
     "text": [
      "<mysql.connector.connection_cext.CMySQLConnection object at 0x7f52c41ba260>\n",
      "('book_ratings',)\n",
      "('information_schema',)\n",
      "('mydatabase',)\n",
      "('mysql',)\n",
      "('performance_schema',)\n",
      "('sys',)\n",
      "('zetta_db',)\n"
     ]
    }
   ],
   "source": [
    "import os\n",
    "from mysql import connector\n",
    "from dotenv import load_dotenv\n",
    "\n",
    "load_dotenv()\n",
    "PASSWORD = os.getenv(\"PASSWORD\")\n",
    "\n",
    "try:\n",
    "    with connector.connect(\n",
    "        host = \"172.17.0.3\",\n",
    "        user = \"zetta\",\n",
    "        password = PASSWORD\n",
    "    ) as database:\n",
    "        print(database)\n",
    "        create_db = \"CREATE DATABASE book_ratings\"\n",
    "        with database.cursor() as cursor:\n",
    "            cursor.execute(create_db)\n",
    "        \n",
    "        show_existing_db = \"SHOW DATABASES\"\n",
    "        with database.cursor() as cursor: \n",
    "            cursor.execute(show_existing_db)\n",
    "            for db in cursor:\n",
    "                print(db)\n",
    "except connector.Error as e:\n",
    "    print(e)"
   ]
  },
  {
   "cell_type": "code",
   "execution_count": 4,
   "metadata": {},
   "outputs": [
    {
     "name": "stdout",
     "output_type": "stream",
     "text": [
      "<mysql.connector.connection_cext.CMySQLConnection object at 0x7f52c41b9720>\n"
     ]
    }
   ],
   "source": [
    "try:\n",
    "    with connector.connect(\n",
    "        host = \"172.17.0.3\",\n",
    "        user = \"zetta\",\n",
    "        password = PASSWORD,\n",
    "        database = \"book_ratings\"\n",
    "    ) as database:\n",
    "       \n",
    "        print(database)\n",
    "\n",
    "except connector.Error as e:\n",
    "    print(e)\n"
   ]
  },
  {
   "cell_type": "code",
   "execution_count": 5,
   "metadata": {},
   "outputs": [
    {
     "ename": "NameError",
     "evalue": "name 'existing_database' is not defined",
     "output_type": "error",
     "traceback": [
      "\u001b[0;31m---------------------------------------------------------------------------\u001b[0m",
      "\u001b[0;31mNameError\u001b[0m                                 Traceback (most recent call last)",
      "Cell \u001b[0;32mIn[5], line 11\u001b[0m\n\u001b[1;32m      1\u001b[0m create_books_table \u001b[39m=\u001b[39m \u001b[39m\"\"\"\u001b[39m\n\u001b[1;32m      2\u001b[0m \u001b[39mCREATE TABLE books(\u001b[39m\n\u001b[1;32m      3\u001b[0m \u001b[39m    id INT NOT NULL AUTO_INCREMENT PRIMARY KEY,\u001b[39m\n\u001b[0;32m   (...)\u001b[0m\n\u001b[1;32m      8\u001b[0m \u001b[39m)\u001b[39m\n\u001b[1;32m      9\u001b[0m \u001b[39m\"\"\"\u001b[39m\n\u001b[1;32m     10\u001b[0m \u001b[39m# Create cursor object\u001b[39;00m\n\u001b[0;32m---> 11\u001b[0m \u001b[39mwith\u001b[39;00m existing_database\u001b[39m.\u001b[39mcursor() \u001b[39mas\u001b[39;00m cursor:\n\u001b[1;32m     12\u001b[0m     cursor\u001b[39m.\u001b[39mexecute(create_books_table)\n\u001b[1;32m     13\u001b[0m     existing_database\u001b[39m.\u001b[39mcommit()\n",
      "\u001b[0;31mNameError\u001b[0m: name 'existing_database' is not defined"
     ]
    }
   ],
   "source": [
    "create_books_table = \"\"\"\n",
    "CREATE TABLE books(\n",
    "    id INT NOT NULL AUTO_INCREMENT PRIMARY KEY,\n",
    "    title VARCHAR(100),\n",
    "    author VARCHAR(100),\n",
    "    genre VARCHAR(100),\n",
    "    release_year YEAR(4)\n",
    ")\n",
    "\"\"\"\n",
    "# Create cursor object\n",
    "with existing_database.cursor() as cursor:\n",
    "    cursor.execute(create_books_table)\n",
    "    existing_database.commit()"
   ]
  },
  {
   "cell_type": "code",
   "execution_count": null,
   "metadata": {},
   "outputs": [],
   "source": []
  }
 ],
 "metadata": {
  "kernelspec": {
   "display_name": "Python 3",
   "language": "python",
   "name": "python3"
  },
  "language_info": {
   "codemirror_mode": {
    "name": "ipython",
    "version": 3
   },
   "file_extension": ".py",
   "mimetype": "text/x-python",
   "name": "python",
   "nbconvert_exporter": "python",
   "pygments_lexer": "ipython3",
   "version": "3.10.6"
  },
  "orig_nbformat": 4
 },
 "nbformat": 4,
 "nbformat_minor": 2
}
