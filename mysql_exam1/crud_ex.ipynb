{
 "cells": [
  {
   "cell_type": "code",
   "execution_count": 4,
   "metadata": {},
   "outputs": [],
   "source": [
    "import pymysql"
   ]
  },
  {
   "cell_type": "code",
   "execution_count": 11,
   "metadata": {},
   "outputs": [
    {
     "name": "stdout",
     "output_type": "stream",
     "text": [
      "(1, 'John', 'Music')\n",
      "(2, 'Sarah', 'Art')\n",
      "(3, 'Steve', 'Computer Science')\n",
      "(4, 'Emma', 'Movie')\n",
      "(5, 'Emma', 'Movie')\n"
     ]
    }
   ],
   "source": [
    "db = pymysql.connect(host='172.17.0.3',\n",
    "                       user='zetta',\n",
    "                       password='password',\n",
    "                       db='zetta_db',\n",
    "                       charset='utf8')\n",
    "\n",
    "try:\n",
    "    cursor = db.cursor()\n",
    "    sql = \"SELECT * FROM students\"\n",
    "    cursor.execute(sql)\n",
    "    result = cursor.fetchall()\n",
    "    for x in result:\n",
    "        print(x)\n",
    "    # print(result)     \n",
    "finally:\n",
    "    db.close()"
   ]
  },
  {
   "cell_type": "code",
   "execution_count": 7,
   "metadata": {},
   "outputs": [
    {
     "name": "stdout",
     "output_type": "stream",
     "text": [
      "(1, 'John', 'Music')\n"
     ]
    }
   ],
   "source": [
    "db = pymysql.connect(host='172.17.0.3',\n",
    "                       user='zetta',\n",
    "                       password='password',\n",
    "                       db='zetta_db',\n",
    "                       charset='utf8')\n",
    "try:\n",
    "    cursor = db.cursor()\n",
    "    sql = \"SELECT * FROM students\"\n",
    "    cursor.execute(sql)\n",
    "    result = cursor.fetchone()\n",
    "    print(result)     \n",
    "finally:\n",
    "    db.close()"
   ]
  },
  {
   "cell_type": "code",
   "execution_count": 10,
   "metadata": {},
   "outputs": [],
   "source": [
    "db = pymysql.connect(host='172.17.0.3',\n",
    "                       user='zetta',\n",
    "                       password='password',\n",
    "                       db='zetta_db',\n",
    "                       charset='utf8')\n",
    "try:\n",
    "    cursor = db.cursor()\n",
    "    sql = \"INSERT INTO students (name, major) VALUES (%s, %s)\"\n",
    "    data = ('Emma', 'Movie')\n",
    "    cursor.execute(sql, data)\n",
    "finally:\n",
    "    db.commit()\n",
    "    db.close()"
   ]
  },
  {
   "cell_type": "code",
   "execution_count": null,
   "metadata": {},
   "outputs": [],
   "source": []
  }
 ],
 "metadata": {
  "kernelspec": {
   "display_name": "Python 3",
   "language": "python",
   "name": "python3"
  },
  "language_info": {
   "codemirror_mode": {
    "name": "ipython",
    "version": 3
   },
   "file_extension": ".py",
   "mimetype": "text/x-python",
   "name": "python",
   "nbconvert_exporter": "python",
   "pygments_lexer": "ipython3",
   "version": "3.10.6"
  },
  "orig_nbformat": 4
 },
 "nbformat": 4,
 "nbformat_minor": 2
}
