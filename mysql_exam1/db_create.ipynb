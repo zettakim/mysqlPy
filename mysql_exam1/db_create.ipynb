{
 "cells": [
  {
   "cell_type": "code",
   "execution_count": 8,
   "metadata": {},
   "outputs": [],
   "source": [
    "import pymysql\n",
    "\n",
    "conn = pymysql.connect(host='172.17.0.3',\n",
    "                       user='zetta',\n",
    "                       password='password',\n",
    "                       charset='utf8')\n",
    "with conn:\n",
    "    with conn.cursor() as cur:\n",
    "        cur.execute('CREATE DATABASE testdb')\n",
    "        conn.commit"
   ]
  },
  {
   "cell_type": "code",
   "execution_count": 9,
   "metadata": {},
   "outputs": [
    {
     "name": "stdout",
     "output_type": "stream",
     "text": [
      "('information_schema',)\n",
      "('mysql',)\n",
      "('performance_schema',)\n",
      "('sys',)\n",
      "('testdb',)\n"
     ]
    }
   ],
   "source": [
    "conn = pymysql.connect(host='172.17.0.3',\n",
    "                       user='zetta',\n",
    "                       password='password',\n",
    "                       db='testdb',\n",
    "                       charset='utf8')\n",
    "\n",
    "sql = \"SHOW DATABASES\"\n",
    "\n",
    "with conn:\n",
    "    with conn.cursor() as cur:\n",
    "        cur.execute(sql)\n",
    "        for data in cur:\n",
    "            print(data)"
   ]
  },
  {
   "cell_type": "code",
   "execution_count": 10,
   "metadata": {},
   "outputs": [],
   "source": [
    "conn = pymysql.connect(host='172.17.0.3',\n",
    "                       user='zetta',\n",
    "                       password='password',\n",
    "                       charset='utf8')\n",
    "\n",
    "with conn:\n",
    "    with conn.cursor() as cur:\n",
    "        cur.execute('DROP DATABASE testdb')\n",
    "        conn.commit"
   ]
  },
  {
   "cell_type": "code",
   "execution_count": 12,
   "metadata": {},
   "outputs": [
    {
     "name": "stdout",
     "output_type": "stream",
     "text": [
      "('information_schema',)\n",
      "('mysql',)\n",
      "('performance_schema',)\n",
      "('sys',)\n"
     ]
    }
   ],
   "source": [
    "conn = pymysql.connect(host='172.17.0.3',\n",
    "                       user='zetta',\n",
    "                       password='password',\n",
    "                       charset='utf8')\n",
    "\n",
    "sql = \"SHOW DATABASES\"\n",
    "\n",
    "with conn:\n",
    "    with conn.cursor() as cur:\n",
    "        cur.execute(sql)\n",
    "        for data in cur:\n",
    "            print(data)"
   ]
  },
  {
   "cell_type": "code",
   "execution_count": null,
   "metadata": {},
   "outputs": [],
   "source": []
  }
 ],
 "metadata": {
  "kernelspec": {
   "display_name": "Python 3",
   "language": "python",
   "name": "python3"
  },
  "language_info": {
   "codemirror_mode": {
    "name": "ipython",
    "version": 3
   },
   "file_extension": ".py",
   "mimetype": "text/x-python",
   "name": "python",
   "nbconvert_exporter": "python",
   "pygments_lexer": "ipython3",
   "version": "3.10.6"
  },
  "orig_nbformat": 4
 },
 "nbformat": 4,
 "nbformat_minor": 2
}
