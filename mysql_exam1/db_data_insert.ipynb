{
 "cells": [
  {
   "cell_type": "code",
   "execution_count": 1,
   "metadata": {},
   "outputs": [],
   "source": [
    "import pymysql\n",
    "\n",
    "db = pymysql.connect(host='172.17.0.3',\n",
    "                       user='zetta',\n",
    "                       password='password',\n",
    "                       charset='utf8')\n",
    "\n",
    "sql = \"\"\"\n",
    "    CREATE DATABASE zetta_db\n",
    "\"\"\"\n",
    "try:\n",
    "    with db.cursor() as cursor:\n",
    "        cursor.execute(sql)\n",
    "        db.commit()\n",
    "finally:\n",
    "    db.close()"
   ]
  },
  {
   "cell_type": "code",
   "execution_count": 3,
   "metadata": {},
   "outputs": [],
   "source": [
    "db = pymysql.connect(host='172.17.0.3',\n",
    "                       user='zetta',\n",
    "                       password='password',\n",
    "                       db='zetta_db',\n",
    "                       charset='utf8')\n",
    "\n",
    "sql = '''\n",
    "    CREATE TABLE cpu_info (\n",
    "        id INT UNSIGNED NOT NULL AUTO_INCREMENT,\n",
    "        name VARCHAR(20) NOT NULL,\n",
    "        model_num VARCHAR(10) NOT NULL,\n",
    "        model_type VARCHAR(10) NOT NULL,\n",
    "        PRIMARY KEY(id)\n",
    "    )\n",
    "'''\n",
    "\n",
    "try:\n",
    "    with db.cursor() as cursor:\n",
    "        cursor.execute(sql)\n",
    "        db.commit()\n",
    "finally:\n",
    "    db.close()"
   ]
  },
  {
   "cell_type": "code",
   "execution_count": 5,
   "metadata": {},
   "outputs": [
    {
     "name": "stdout",
     "output_type": "stream",
     "text": [
      "INSERT INTO cpu_info (id, name, model_num, model_type) VALUES(10, 'i5', '7700', 'Kaby Lake')\n",
      "INSERT INTO cpu_info (id, name, model_num, model_type) VALUES(11, 'i5', '7700', 'Kaby Lake')\n",
      "INSERT INTO cpu_info (id, name, model_num, model_type) VALUES(12, 'i5', '7700', 'Kaby Lake')\n",
      "INSERT INTO cpu_info (id, name, model_num, model_type) VALUES(13, 'i5', '7700', 'Kaby Lake')\n",
      "INSERT INTO cpu_info (id, name, model_num, model_type) VALUES(14, 'i5', '7700', 'Kaby Lake')\n",
      "INSERT INTO cpu_info (id, name, model_num, model_type) VALUES(15, 'i5', '7700', 'Kaby Lake')\n",
      "INSERT INTO cpu_info (id, name, model_num, model_type) VALUES(16, 'i5', '7700', 'Kaby Lake')\n",
      "INSERT INTO cpu_info (id, name, model_num, model_type) VALUES(17, 'i5', '7700', 'Kaby Lake')\n",
      "INSERT INTO cpu_info (id, name, model_num, model_type) VALUES(18, 'i5', '7700', 'Kaby Lake')\n",
      "INSERT INTO cpu_info (id, name, model_num, model_type) VALUES(19, 'i5', '7700', 'Kaby Lake')\n",
      "19\n"
     ]
    }
   ],
   "source": [
    "db = pymysql.connect(host='172.17.0.3',\n",
    "                       user='zetta',\n",
    "                       password='password',\n",
    "                       db='zetta_db',\n",
    "                       charset='utf8')\n",
    "\n",
    "try:\n",
    "    cursor = db.cursor()\n",
    "    for num in range(10, 20):\n",
    "        sql = \"INSERT INTO cpu_info (id, name, model_num, model_type) VALUES(\" + str(num) + \", 'i5', '7700', 'Kaby Lake')\"\n",
    "        print(sql)\n",
    "        cursor.execute(sql)\n",
    "\n",
    "    db.commit()\n",
    "    print(cursor.lastrowid)\n",
    "finally:\n",
    "    db.close()"
   ]
  },
  {
   "cell_type": "code",
   "execution_count": 6,
   "metadata": {},
   "outputs": [
    {
     "name": "stdout",
     "output_type": "stream",
     "text": [
      "10\n",
      "i5\n",
      "7700\n",
      "Kaby Lake\n",
      "11\n",
      "i5\n",
      "7700\n",
      "Kaby Lake\n",
      "12\n",
      "i5\n",
      "7700\n",
      "Kaby Lake\n",
      "13\n",
      "i5\n",
      "7700\n",
      "Kaby Lake\n",
      "14\n",
      "i5\n",
      "7700\n",
      "Kaby Lake\n",
      "15\n",
      "i5\n",
      "7700\n",
      "Kaby Lake\n",
      "16\n",
      "i5\n",
      "7700\n",
      "Kaby Lake\n",
      "17\n",
      "i5\n",
      "7700\n",
      "Kaby Lake\n",
      "18\n",
      "i5\n",
      "7700\n",
      "Kaby Lake\n",
      "19\n",
      "i5\n",
      "7700\n",
      "Kaby Lake\n"
     ]
    }
   ],
   "source": [
    "db = pymysql.connect(host='172.17.0.3',\n",
    "                       user='zetta',\n",
    "                       password='password',\n",
    "                       db='zetta_db',\n",
    "                       charset='utf8')\n",
    "\n",
    "try:\n",
    "    cursor = db.cursor()\n",
    "    sql = \"SELECT * FROM cpu_info\"\n",
    "    cursor.execute(sql)\n",
    "    result = cursor.fetchall()\n",
    "    for row_data in result:\n",
    "        print(row_data[0])\n",
    "        print(row_data[1])\n",
    "        print(row_data[2])\n",
    "        print(row_data[3])        \n",
    "finally:\n",
    "    db.close()"
   ]
  },
  {
   "cell_type": "code",
   "execution_count": null,
   "metadata": {},
   "outputs": [],
   "source": []
  }
 ],
 "metadata": {
  "kernelspec": {
   "display_name": "Python 3",
   "language": "python",
   "name": "python3"
  },
  "language_info": {
   "codemirror_mode": {
    "name": "ipython",
    "version": 3
   },
   "file_extension": ".py",
   "mimetype": "text/x-python",
   "name": "python",
   "nbconvert_exporter": "python",
   "pygments_lexer": "ipython3",
   "version": "3.10.6"
  },
  "orig_nbformat": 4
 },
 "nbformat": 4,
 "nbformat_minor": 2
}
