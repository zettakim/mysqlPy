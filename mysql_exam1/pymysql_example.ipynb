{
 "cells": [
  {
   "cell_type": "markdown",
   "metadata": {},
   "source": [
    "# pymysql Example\n",
    "\n",
    "https://zetcode.com/python/pymysql/"
   ]
  },
  {
   "cell_type": "markdown",
   "metadata": {},
   "source": [
    "cities_mysql.sql\n",
    "```sql\n",
    "USE zetta_db;\n",
    "DROP TABLE IF EXISTS cities;\n",
    "CREATE TABLE cities(id INT PRIMARY KEY AUTO_INCREMENT, name VARCHAR(255), population INT);\n",
    "INSERT INTO cities(name, population) VALUES('Bratislava', 432000);\n",
    "INSERT INTO cities(name, population) VALUES('Budapest', 1759000);\n",
    "INSERT INTO cities(name, population) VALUES('Prague', 1280000);\n",
    "INSERT INTO cities(name, population) VALUES('Warsaw', 1748000);\n",
    "INSERT INTO cities(name, population) VALUES('Los Angeles', 3971000);\n",
    "INSERT INTO cities(name, population) VALUES('New York', 8550000);\n",
    "INSERT INTO cities(name, population) VALUES('Edinburgh', 464000);\n",
    "INSERT INTO cities(name, population) VALUES('Berlin', 3671000);\n",
    "```\n"
   ]
  },
  {
   "cell_type": "code",
   "execution_count": 2,
   "metadata": {},
   "outputs": [
    {
     "name": "stdout",
     "output_type": "stream",
     "text": [
      "Database version: 8.0.33-0ubuntu0.22.04.2\n"
     ]
    }
   ],
   "source": [
    "# version.py\n",
    "import pymysql\n",
    "\n",
    "con = pymysql.connect(host='172.17.0.3',\n",
    "                       user='zetta',\n",
    "                       password='password',\n",
    "                       db='zetta_db',\n",
    "                       charset='utf8')\n",
    "\n",
    "try:\n",
    "    with con.cursor() as cur:\n",
    "        cur.execute(\"SELECT VERSION()\")\n",
    "        version = cur.fetchone()\n",
    "        print(f'Database version: {version[0]}')     \n",
    "finally:\n",
    "    con.close()"
   ]
  },
  {
   "cell_type": "code",
   "execution_count": 1,
   "metadata": {},
   "outputs": [
    {
     "name": "stdout",
     "output_type": "stream",
     "text": [
      "1 Bratislava 432000\n",
      "2 Budapest 1759000\n",
      "3 Prague 1280000\n",
      "4 Warsaw 1748000\n",
      "5 Los Angeles 3971000\n",
      "6 New York 8550000\n",
      "7 Edinburgh 464000\n",
      "8 Berlin 3671000\n"
     ]
    }
   ],
   "source": [
    "# fetch_all.py\n",
    "import pymysql\n",
    "\n",
    "con = pymysql.connect(host='172.17.0.3',\n",
    "                       user='zetta',\n",
    "                       password='password',\n",
    "                       db='zetta_db',\n",
    "                       charset='utf8')\n",
    "\n",
    "try:\n",
    "    with con.cursor() as cur:\n",
    "        cur.execute(\"SELECT * FROM cities\")\n",
    "        rows = cur.fetchall()\n",
    "        for row in rows:\n",
    "            print(f'{row[0]} {row[1]} {row[2]}')     \n",
    "finally:\n",
    "    con.close()"
   ]
  },
  {
   "cell_type": "markdown",
   "metadata": {},
   "source": [
    "### - PyMySQL dictionary cursor"
   ]
  },
  {
   "cell_type": "code",
   "execution_count": 9,
   "metadata": {},
   "outputs": [
    {
     "name": "stdout",
     "output_type": "stream",
     "text": [
      "1 Bratislava\n",
      "2 Budapest\n",
      "3 Prague\n",
      "4 Warsaw\n",
      "5 Los Angeles\n",
      "6 New York\n",
      "7 Edinburgh\n",
      "8 Berlin\n"
     ]
    }
   ],
   "source": [
    "# dictionary_cursor.py\n",
    "import pymysql\n",
    "import pymysql.cursors\n",
    "\n",
    "con = pymysql.connect(host='172.17.0.3',\n",
    "                       user='zetta',\n",
    "                       password='password',\n",
    "                       db='zetta_db',\n",
    "                       charset='utf8',\n",
    "                       cursorclass=pymysql.cursors.DictCursor)\n",
    "\n",
    "try:\n",
    "    with con.cursor() as cur:\n",
    "        cur.execute(\"SELECT * FROM cities\")\n",
    "        rows = cur.fetchall()\n",
    "        for row in rows:\n",
    "            print(row['id'], row['name'])     \n",
    "finally:\n",
    "    con.close()"
   ]
  },
  {
   "cell_type": "markdown",
   "metadata": {},
   "source": [
    "### - PyMySQL column headers"
   ]
  },
  {
   "cell_type": "code",
   "execution_count": 19,
   "metadata": {},
   "outputs": [
    {
     "name": "stdout",
     "output_type": "stream",
     "text": [
      "id       name            population\n",
      "1        Bratislava          432000\n",
      "2        Budapest           1759000\n",
      "3        Prague             1280000\n",
      "4        Warsaw             1748000\n",
      "5        Los Angeles        3971000\n",
      "6        New York           8550000\n",
      "7        Edinburgh           464000\n",
      "8        Berlin             3671000\n"
     ]
    }
   ],
   "source": [
    "# column_headers.py\n",
    "import pymysql\n",
    "import pymysql.cursors\n",
    "\n",
    "con = pymysql.connect(host='172.17.0.3',\n",
    "                       user='zetta',\n",
    "                       password='password',\n",
    "                       db='zetta_db',\n",
    "                       charset='utf8')\n",
    "\n",
    "try:\n",
    "    with con.cursor() as cur:\n",
    "        cur.execute(\"SELECT * FROM cities\")\n",
    "        rows = cur.fetchall()\n",
    "        desc = cur.description\n",
    "        print(f'{desc[0][0]:<8} {desc[1][0]:<15} {desc[2][0]:>10}')\n",
    "        for row in rows:\n",
    "            print(f'{row[0]:<8} {row[1]:<15} {row[2]:>10}') \n",
    "finally:\n",
    "    con.close()"
   ]
  },
  {
   "cell_type": "markdown",
   "metadata": {},
   "source": [
    "### - PyMySQL escaping parameters"
   ]
  },
  {
   "cell_type": "code",
   "execution_count": 21,
   "metadata": {},
   "outputs": [
    {
     "name": "stdout",
     "output_type": "stream",
     "text": [
      "4 Warsaw 1748000\n"
     ]
    }
   ],
   "source": [
    "# escaped.py\n",
    "import pymysql\n",
    "\n",
    "con = pymysql.connect(host='172.17.0.3',\n",
    "                       user='zetta',\n",
    "                       password='password',\n",
    "                       db='zetta_db',\n",
    "                       charset='utf8')\n",
    "\n",
    "# user input\n",
    "myid = 4\n",
    "\n",
    "try:\n",
    "    with con.cursor() as cur:\n",
    "        cur.execute(\"SELECT * FROM cities WHERE id=%s\", myid)\n",
    "        cid, name, population = cur.fetchone()\n",
    "        print(cid, name, population)\n",
    "finally:\n",
    "    con.close()"
   ]
  },
  {
   "cell_type": "markdown",
   "metadata": {},
   "source": [
    "### - PyMySQL affected rows"
   ]
  },
  {
   "cell_type": "code",
   "execution_count": 22,
   "metadata": {},
   "outputs": [
    {
     "name": "stdout",
     "output_type": "stream",
     "text": [
      "The query affected 3 rows\n"
     ]
    }
   ],
   "source": [
    "# escaped.py\n",
    "import pymysql\n",
    "\n",
    "con = pymysql.connect(host='172.17.0.3',\n",
    "                       user='zetta',\n",
    "                       password='password',\n",
    "                       db='zetta_db',\n",
    "                       charset='utf8')\n",
    "\n",
    "try:\n",
    "    with con.cursor() as cur:\n",
    "        cur.execute(\"SELECT * FROM cities WHERE id IN (1, 2, 3)\")\n",
    "        print(f'The query affected {cur.rowcount} rows')\n",
    "finally:\n",
    "    con.close()"
   ]
  },
  {
   "cell_type": "markdown",
   "metadata": {},
   "source": [
    "### - PyMySQL insert row"
   ]
  },
  {
   "cell_type": "code",
   "execution_count": 24,
   "metadata": {},
   "outputs": [
    {
     "name": "stdout",
     "output_type": "stream",
     "text": [
      "new city inserted\n"
     ]
    }
   ],
   "source": [
    "import pymysql\n",
    "\n",
    "con = pymysql.connect(host='172.17.0.3',\n",
    "                       user='zetta',\n",
    "                       password='password',\n",
    "                       db='zetta_db',\n",
    "                       charset='utf8')\n",
    "\n",
    "city = (9, 'Kiev', 2887000)\n",
    "\n",
    "try:\n",
    "    with con.cursor() as cur:\n",
    "        cur.execute(\"INSERT INTO cities VALUES(%s, %s, %s)\",\n",
    "                    (city[0], city[1], city[2]))\n",
    "        con.commit()\n",
    "        print('new city inserted')\n",
    "finally:\n",
    "    con.close()"
   ]
  }
 ],
 "metadata": {
  "kernelspec": {
   "display_name": "Python 3",
   "language": "python",
   "name": "python3"
  },
  "language_info": {
   "codemirror_mode": {
    "name": "ipython",
    "version": 3
   },
   "file_extension": ".py",
   "mimetype": "text/x-python",
   "name": "python",
   "nbconvert_exporter": "python",
   "pygments_lexer": "ipython3",
   "version": "3.10.6"
  },
  "orig_nbformat": 4
 },
 "nbformat": 4,
 "nbformat_minor": 2
}
